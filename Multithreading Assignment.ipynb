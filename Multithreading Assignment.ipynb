{
 "cells": [
  {
   "cell_type": "markdown",
   "id": "eff7bf23",
   "metadata": {},
   "source": [
    "Q1) What is multithreading in python? Why is it used? Name the module used to handle threads in python\n",
    "\n",
    "Ans. Multithreading in python refers to running of smaller units of program within the same process. It is used to obtain concurrency and to obtain efficiency as cpu is always busy in doing some tasks and not sitting idle at times like I/O operations, it is doing some background tasks. The module use to handle threads in python is 'threading'."
   ]
  },
  {
   "cell_type": "markdown",
   "id": "ba366630",
   "metadata": {},
   "source": [
    "Q2) Why threading module is used? What is the use of the following functions:\n",
    "\n",
    "    1. activeCount()\n",
    "    2. currentThread()\n",
    "    3. enumerate()"
   ]
  },
  {
   "cell_type": "code",
   "execution_count": null,
   "id": "714311d8",
   "metadata": {},
   "outputs": [],
   "source": [
    "# Active count function is used to tell how many threads are active at this point\n",
    "# currentThread() prints current thread\n",
    "# enumerate() prints the list of all active threads"
   ]
  },
  {
   "cell_type": "code",
   "execution_count": 25,
   "id": "d5d604f9",
   "metadata": {},
   "outputs": [
    {
     "name": "stdout",
     "output_type": "stream",
     "text": [
      "Active thread count:  7\n",
      "Current thread:  <Thread(Thread-69, started 8344)>\n",
      "Lists of active threads:  [<_MainThread(MainThread, started 15012)>, <Thread(IOPub, started daemon 1580)>, <Heartbeat(Heartbeat, started daemon 14784)>, <ControlThread(Control, started daemon 6404)>, <HistorySavingThread(IPythonHistorySavingThread, started 2904)>, <ParentPollerWindows(Thread-4, started daemon 8992)>, <Thread(Thread-69, started 8344)>]\n",
      "Active thread count:  7\n",
      "Current thread:  <Thread(Thread-70, started 10984)>\n",
      "Lists of active threads:  [<_MainThread(MainThread, started 15012)>, <Thread(IOPub, started daemon 1580)>, <Heartbeat(Heartbeat, started daemon 14784)>, <ControlThread(Control, started daemon 6404)>, <HistorySavingThread(IPythonHistorySavingThread, started 2904)>, <ParentPollerWindows(Thread-4, started daemon 8992)>, <Thread(Thread-70, started 10984)>]\n",
      "Active thread count:  7\n",
      "Current thread:  <Thread(Thread-71, started 13160)>\n",
      "Lists of active threads:  [<_MainThread(MainThread, started 15012)>, <Thread(IOPub, started daemon 1580)>, <Heartbeat(Heartbeat, started daemon 14784)>, <ControlThread(Control, started daemon 6404)>, <HistorySavingThread(IPythonHistorySavingThread, started 2904)>, <ParentPollerWindows(Thread-4, started daemon 8992)>, <Thread(Thread-71, started 13160)>]\n"
     ]
    }
   ],
   "source": [
    "import threading\n",
    "import time\n",
    "def thread_function(x):\n",
    "        print('Active thread count: ', threading.active_count())\n",
    "        print('Current thread: ',threading.currentThread())\n",
    "        print('Lists of active threads: ',threading.enumerate())\n",
    "thread1=[threading.Thread(target=thread_function, args=(i,)) for i in [2,5,7]]\n",
    "\n",
    "for t in thread1:\n",
    "    t.start()\n"
   ]
  },
  {
   "cell_type": "markdown",
   "id": "046ae3ca",
   "metadata": {},
   "source": [
    "Q3) Explain the following functions:\n",
    "\n",
    "    1. run()\n",
    "    2. start()\n",
    "    3. join()\n",
    "    4. isAlive()\n",
    "\n",
    "Ans. The run() function is a method of Thread class in threading module this function acts as the entry point for a thread. This method gets automatically invoked when we start a thread using start() function.\n",
    "\n",
    "The start() method is the method we call when we want to start any thread. This acts as the start button for a thread. This method is responsible for calling the run() method.\n",
    "\n",
    "The join() method is used to wait for a thread to get completed. This method is used to let the main thread know to complete its execution only when the sub threads has fully finished.\n",
    "\n",
    "The isAlive() method is used to know whether a thread is currently executing or not. It returs true if the thread is still running and false if not."
   ]
  },
  {
   "cell_type": "markdown",
   "id": "1705d3d9",
   "metadata": {},
   "source": [
    "Q4) Write a python program two create two threads. Thread1 must create a list of squares and thread2 must create a list of cubes."
   ]
  },
  {
   "cell_type": "code",
   "execution_count": 5,
   "id": "a775bd38",
   "metadata": {},
   "outputs": [
    {
     "name": "stdout",
     "output_type": "stream",
     "text": [
      "List: [1, 2, 3, 4, 5]\n",
      "Squares: [1, 4, 9, 16, 25]\n",
      "Cubes: [1, 8, 27, 64, 125]\n"
     ]
    }
   ],
   "source": [
    "import threading\n",
    "def list_of_squares(l1):\n",
    "    squares=[i**2 for i in l1]\n",
    "    print('Squares:',squares)\n",
    "\n",
    "def list_of_cubes(l1):\n",
    "    cubes=[i**3 for i in l1]\n",
    "    print('Cubes:',cubes)\n",
    "\n",
    "l1=[1,2,3,4,5]\n",
    "print('List:',l1)\n",
    "thread1=threading.Thread(target=list_of_squares,args=(l1,))\n",
    "thread2=threading.Thread(target=list_of_cubes,args=(l1,))\n",
    "thread1.start()\n",
    "thread2.start()"
   ]
  },
  {
   "cell_type": "markdown",
   "id": "b8929ed0",
   "metadata": {},
   "source": [
    "Q5) State advantages and disadvantages of multithreading.\n",
    "\n",
    "Ans. \n",
    "\n",
    "Advantages\n",
    "\n",
    "    Concurrency: Multithreading allows threads to run concurrently on a single cpu core.\n",
    "    \n",
    "    Resource Sharing: Threads are sub tasks of a process which share the same memory space and resources. This allows easier communication and exchange of information between threads.\n",
    "    \n",
    "    Responsiveness: Threads help in increasing the responsiveness of the program or an app as there are always some tasks running in the background which allows the flow of work to be as smooth as possible.\n",
    "   \n",
    "Disadvantages\n",
    "    \n",
    "    Complexity: Managing threads can be a complex tasks and require high knowledge and clear understanding of their working\n",
    "    \n",
    "    Deadlock: Poorly managed threads can also lead to deadlock occurence which is fatal for any program or app.\n",
    "    \n",
    "    Increased Overhead: Context switching between threads can increase overhead on the CPU."
   ]
  },
  {
   "cell_type": "markdown",
   "id": "69e40afb",
   "metadata": {},
   "source": [
    "Q6) Explain deadlocks and race condition.\n",
    "Ans. \n",
    "\n",
    "A deadlock is a condition in concurrent programming which occurs when supposedly two threads are waiting for some resource to complete its execution but are not able to get the resource as the two threads are also occupying the resource which other thread needs.\n",
    "For a deadlock to happen, the following 4 conditions need to occur simultaneously:\n",
    "\n",
    "    Hold and Wait: The thread must be holding onto one resource while waiting for other resource to be freed.\n",
    "    \n",
    "    Circular Wait: There should exist a cycle between threads like if thread1 is occupying resource 1 and waiting for resource 2 then thread2 must be occupying resource 2 and waiting for resource 1\n",
    "    \n",
    "    No preemption: There should be no release of resource by threads just becuase its time quantum is over. There should be no concept of preemption\n",
    "    \n",
    "    Mutual Exclusion: Threads should have mutually exclusive control over a resource. That is one resource could be used by only one thread at a time.\n",
    "    \n",
    "Race condition\n",
    "    \n",
    "    Race condition occurs when two or more threads are accessing a shared data and at least one of them has the capability to change it. This will cause unpredictability in the output while reading the data."
   ]
  },
  {
   "cell_type": "code",
   "execution_count": null,
   "id": "2fb6ccb3",
   "metadata": {},
   "outputs": [],
   "source": []
  }
 ],
 "metadata": {
  "kernelspec": {
   "display_name": "Python 3 (ipykernel)",
   "language": "python",
   "name": "python3"
  },
  "language_info": {
   "codemirror_mode": {
    "name": "ipython",
    "version": 3
   },
   "file_extension": ".py",
   "mimetype": "text/x-python",
   "name": "python",
   "nbconvert_exporter": "python",
   "pygments_lexer": "ipython3",
   "version": "3.9.12"
  }
 },
 "nbformat": 4,
 "nbformat_minor": 5
}
